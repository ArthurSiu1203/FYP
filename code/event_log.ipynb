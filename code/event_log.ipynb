{
 "cells": [
  {
   "cell_type": "code",
   "execution_count": 1,
   "id": "5afb9132",
   "metadata": {},
   "outputs": [],
   "source": [
    "import os.path\n",
    "import logging\n",
    "from datetime import datetime"
   ]
  },
  {
   "cell_type": "code",
   "execution_count": 2,
   "id": "15aa6533",
   "metadata": {},
   "outputs": [],
   "source": [
    "def write_log(log_id: int,log_text: str, time: datetime = datetime.now()):\n",
    "    \"\"\"\n",
    "    variables\n",
    "    ---------\n",
    "    log_id: integer\n",
    "        ID of the process\n",
    "    log_text: string\n",
    "        Text to be shown in the log\n",
    "    time: datetime, optional\n",
    "        datetime of the log, default as current timestamp\n",
    "    \n",
    "    \"\"\"\n",
    "    log_id = str(log_id)\n",
    "    if os.path.exists('event_log.txt'):\n",
    "        with open('event_log.txt','a') as event_log:\n",
    "            event_log.write('\\n'+log_id+'\\t'+log_text+'\\t'+str(time))\n",
    "        logging.info('write log at '+str(time))\n",
    "    else:\n",
    "        write_text = log_id+'\\t'+log_text+'\\t'+str(time)\n",
    "        with open('event_log.txt','w') as event_log:\n",
    "            event_log.write('LogID\\tEvent\\tTime')\n",
    "            event_log.write('\\n'+write_text)\n",
    "        logging.info('write log at '+str(time))"
   ]
  },
  {
   "cell_type": "code",
   "execution_count": 3,
   "id": "ab41b55e",
   "metadata": {},
   "outputs": [],
   "source": [
    "def clear_log():\n",
    "    if os.path.exists('event_log.txt'):\n",
    "        os.remove(\"event_log.txt\")"
   ]
  }
 ],
 "metadata": {
  "kernelspec": {
   "display_name": "Python 3 (ipykernel)",
   "language": "python",
   "name": "python3"
  },
  "language_info": {
   "codemirror_mode": {
    "name": "ipython",
    "version": 3
   },
   "file_extension": ".py",
   "mimetype": "text/x-python",
   "name": "python",
   "nbconvert_exporter": "python",
   "pygments_lexer": "ipython3",
   "version": "3.9.13"
  }
 },
 "nbformat": 4,
 "nbformat_minor": 5
}
