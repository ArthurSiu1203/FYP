{
 "cells": [
  {
   "cell_type": "code",
   "execution_count": 1,
   "id": "37535c96",
   "metadata": {},
   "outputs": [],
   "source": [
    "from phase_bpmn import bpmnToDict\n",
    "from event_log import write_log\n",
    "import logging"
   ]
  },
  {
   "cell_type": "code",
   "execution_count": 2,
   "id": "0ad48a1a",
   "metadata": {},
   "outputs": [],
   "source": [
    "\"\"\"\n",
    "process_dict\n",
    "    dictionary storing the whole process, process id as key\n",
    "\"\"\"\n",
    "process_dict = bpmnToDict(\"resources/bpmn.bpmn\")"
   ]
  },
  {
   "cell_type": "code",
   "execution_count": 3,
   "id": "cc0577b7",
   "metadata": {},
   "outputs": [
    {
     "name": "stdout",
     "output_type": "stream",
     "text": [
      "{'file_number': '{http://www.omg.org/spec/BPMN/20100524/MODEL}', 'Event_0lnxcvl': {'name': 'Start Process of applying new bank account', 'type': 'startEvent', 'outgoing': ['Flow_0c182ag']}, 'Gateway_03yfk3z': {'type': 'exclusiveGateway', 'incoming': ['Flow_0c182ag'], 'outgoing': ['Flow_1qhk0r6', 'Flow_0ucqptd']}, 'Flow_0c182ag': '', 'Activity_1w0ol9m': {'name': 'Upload personal identification documents', 'type': 'task', 'incoming': ['Flow_1qhk0r6'], 'outgoing': ['Flow_18zh6fq']}, 'Flow_1qhk0r6': 'Apply Online', 'Activity_1i97yd8': {'name': 'Fill in application form with branch staff', 'type': 'task', 'incoming': ['Flow_0ucqptd'], 'outgoing': ['Flow_01yrhkw']}, 'Flow_0ucqptd': 'Apply physically at branch', 'Activity_16mb7wz': {'name': 'eKYC process', 'type': 'task', 'incoming': ['Flow_18zh6fq'], 'outgoing': ['Flow_0ncdvpk']}, 'Flow_18zh6fq': '', 'Flow_0ncdvpk': '', 'Gateway_1djuzpp': {'type': 'parallelGateway', 'incoming': ['Flow_10c1mgx'], 'outgoing': ['Flow_11asr0r', 'Flow_1du3rrg']}, 'Activity_0yhv72e': {'name': 'Verify identification documents', 'type': 'task', 'incoming': ['Flow_11asr0r'], 'outgoing': ['Flow_1u362d8']}, 'Flow_11asr0r': '', 'Activity_0z136np': {'name': 'Check with credit bureau', 'type': 'task', 'incoming': ['Flow_1du3rrg'], 'outgoing': ['Flow_15ru5kj']}, 'Flow_1du3rrg': '', 'Flow_1u362d8': '', 'Gateway_1wwtoq2': {'type': 'parallelGateway', 'incoming': ['Flow_1u362d8', 'Flow_15ru5kj'], 'outgoing': ['Flow_0lml24y']}, 'Activity_19zx2tt': {'name': 'Bank account open success', 'type': 'task', 'incoming': ['Flow_1j4uh5z'], 'outgoing': ['Flow_0klvec6']}, 'Flow_0lml24y': '', 'Event_1acmirw': {'type': 'endEvent', 'incoming': ['Flow_0tjda9g']}, 'Flow_0klvec6': '', 'Gateway_0nybhjf': {'type': 'exclusiveGateway', 'incoming': ['Flow_01yrhkw', 'Flow_0ncdvpk'], 'outgoing': ['Flow_10c1mgx']}, 'Flow_01yrhkw': '', 'Flow_10c1mgx': '', 'Gateway_0vppjg9': {'type': 'exclusiveGateway', 'incoming': ['Flow_0klvec6', 'Flow_0ixvn2k'], 'outgoing': ['Flow_0tjda9g']}, 'Flow_0tjda9g': '', 'Flow_15ru5kj': '', 'Gateway_0mmdsy6': {'type': 'exclusiveGateway', 'incoming': ['Flow_0lml24y'], 'outgoing': ['Flow_1j4uh5z', 'Flow_1j193sd']}, 'Flow_1j4uh5z': 'positive', 'Activity_171f4h4': {'name': 'Bank account open reject', 'type': 'task', 'incoming': ['Flow_1j193sd'], 'outgoing': ['Flow_0ixvn2k']}, 'Flow_1j193sd': 'negetive', 'Flow_0ixvn2k': ''}\n"
     ]
    }
   ],
   "source": [
    "print(process_dict)"
   ]
  },
  {
   "cell_type": "code",
   "execution_count": 4,
   "id": "1a1b63dd",
   "metadata": {},
   "outputs": [],
   "source": [
    "# find the start and end event in the process_dict\n",
    "# for keys,values in process_dict.items():\n",
    "#     if 'outgoing' in values and 'incoming' not in values:\n",
    "#         start_event =keys\n",
    "#         logging.info(\"start_event=\" + start_event)\n",
    "#     if 'incoming' in values and 'outgoing' not in values:\n",
    "#         end_event =keys\n",
    "#         logging.info(\"end_event=\" + end_event)"
   ]
  },
  {
   "cell_type": "code",
   "execution_count": 12,
   "id": "572918ad",
   "metadata": {},
   "outputs": [],
   "source": [
    "# find the start and end event in the process_dict\n",
    "start_event, end_event = (\"\",\"\")\n",
    "for keys, values in process_dict.items():\n",
    "    if 'type' in values:\n",
    "        for value in values.values():\n",
    "            if value == \"startEvent\":\n",
    "                start_event = keys\n",
    "                logging.info(\"start_event=\" + start_event)\n",
    "            elif value == \"endEvent\":\n",
    "                end_event = keys\n",
    "                logging.info(\"end_event=\" + end_event)\n",
    "#raise error if startEvent or endEvent not found\n",
    "if start_event == \"\" or end_event == \"\":\n",
    "    raise Exception(\"Your bpmn process must contain a startEvent and endEvent.\")"
   ]
  },
  {
   "cell_type": "code",
   "execution_count": null,
   "id": "3b400092",
   "metadata": {},
   "outputs": [],
   "source": [
    "#start process\n",
    "write_log(1,process_dict[start_event]['name'])\n"
   ]
  },
  {
   "cell_type": "code",
   "execution_count": 13,
   "id": "ed5557c9",
   "metadata": {},
   "outputs": [
    {
     "name": "stdout",
     "output_type": "stream",
     "text": [
      " \n"
     ]
    }
   ],
   "source": [
    "print(start_event,end_event)"
   ]
  }
 ],
 "metadata": {
  "kernelspec": {
   "display_name": "Python 3 (ipykernel)",
   "language": "python",
   "name": "python3"
  },
  "language_info": {
   "codemirror_mode": {
    "name": "ipython",
    "version": 3
   },
   "file_extension": ".py",
   "mimetype": "text/x-python",
   "name": "python",
   "nbconvert_exporter": "python",
   "pygments_lexer": "ipython3",
   "version": "3.9.13"
  }
 },
 "nbformat": 4,
 "nbformat_minor": 5
}
