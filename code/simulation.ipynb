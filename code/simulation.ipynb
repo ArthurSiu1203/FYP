{
 "cells": [
  {
   "cell_type": "code",
   "execution_count": null,
   "id": "8224671a",
   "metadata": {},
   "outputs": [],
   "source": [
    "# !pip install pm4py"
   ]
  },
  {
   "cell_type": "code",
   "execution_count": 21,
   "id": "37535c96",
   "metadata": {},
   "outputs": [],
   "source": [
    "from phase_bpmn import bpmnToDict\n",
    "from event_log import write_log\n",
    "import logging\n",
    "from datetime import datetime\n",
    "import time\n",
    "\n",
    "import pandas as pd\n",
    "import pm4py\n",
    "\n",
    "import random"
   ]
  },
  {
   "cell_type": "code",
   "execution_count": 22,
   "id": "0ad48a1a",
   "metadata": {},
   "outputs": [],
   "source": [
    "\"\"\"\n",
    "process_dict\n",
    "    dictionary storing the whole process, process id as key\n",
    "\"\"\"\n",
    "process_dict = bpmnToDict(\"resources/bpmn.bpmn\")"
   ]
  },
  {
   "cell_type": "code",
   "execution_count": 23,
   "id": "32e49bd4",
   "metadata": {},
   "outputs": [],
   "source": [
    "#Config\n",
    "log_id = 1;\n",
    "#Variables\n",
    "process_path = list();\n",
    "#for parallel gateway\n",
    "current_layer = 0;\n",
    "current_In_Layer = 0;\n",
    "handled_gateway = []\n"
   ]
  },
  {
   "cell_type": "code",
   "execution_count": 24,
   "id": "cc0577b7",
   "metadata": {},
   "outputs": [
    {
     "name": "stdout",
     "output_type": "stream",
     "text": [
      "file_number : {http://www.omg.org/spec/BPMN/20100524/MODEL}\n",
      "Event_0lnxcvl : {'name': 'Start Process of applying new bank account', 'type': 'startEvent', 'outgoing': ['Flow_0c182ag']}\n",
      "Gateway_03yfk3z : {'type': 'exclusiveGateway', 'incoming': ['Flow_0c182ag'], 'outgoing': ['Flow_1qhk0r6', 'Flow_0ucqptd']}\n",
      "Flow_0c182ag : \n",
      "Activity_1w0ol9m : {'name': 'Upload personal identification documents', 'type': 'task', 'incoming': ['Flow_1qhk0r6'], 'outgoing': ['Flow_18zh6fq']}\n",
      "Flow_1qhk0r6 : Apply Online\n",
      "Activity_1i97yd8 : {'name': 'Fill in application form with branch staff', 'type': 'task', 'incoming': ['Flow_0ucqptd'], 'outgoing': ['Flow_01yrhkw']}\n",
      "Flow_0ucqptd : Apply physically at branch\n",
      "Activity_16mb7wz : {'name': 'eKYC process', 'type': 'task', 'incoming': ['Flow_18zh6fq'], 'outgoing': ['Flow_0ncdvpk']}\n",
      "Flow_18zh6fq : \n",
      "Flow_0ncdvpk : \n",
      "Gateway_1djuzpp : {'type': 'parallelGateway', 'incoming': ['Flow_10c1mgx'], 'outgoing': ['Flow_11asr0r', 'Flow_1du3rrg']}\n",
      "Activity_0yhv72e : {'name': 'Verify identification documents', 'type': 'task', 'incoming': ['Flow_11asr0r'], 'outgoing': ['Flow_1u362d8']}\n",
      "Flow_11asr0r : \n",
      "Activity_0z136np : {'name': 'Check with credit bureau', 'type': 'task', 'incoming': ['Flow_1du3rrg'], 'outgoing': ['Flow_15ru5kj']}\n",
      "Flow_1du3rrg : \n",
      "Flow_1u362d8 : \n",
      "Gateway_1wwtoq2 : {'type': 'parallelGateway', 'incoming': ['Flow_1u362d8', 'Flow_15ru5kj'], 'outgoing': ['Flow_0lml24y']}\n",
      "Activity_19zx2tt : {'name': 'Bank account open success', 'type': 'task', 'incoming': ['Flow_1j4uh5z'], 'outgoing': ['Flow_0klvec6']}\n",
      "Flow_0lml24y : \n",
      "Event_1acmirw : {'type': 'endEvent', 'incoming': ['Flow_0tjda9g']}\n",
      "Flow_0klvec6 : \n",
      "Gateway_0nybhjf : {'type': 'exclusiveGateway', 'incoming': ['Flow_01yrhkw', 'Flow_0ncdvpk'], 'outgoing': ['Flow_10c1mgx']}\n",
      "Flow_01yrhkw : \n",
      "Flow_10c1mgx : \n",
      "Gateway_0vppjg9 : {'type': 'exclusiveGateway', 'incoming': ['Flow_0klvec6', 'Flow_0ixvn2k'], 'outgoing': ['Flow_0tjda9g']}\n",
      "Flow_0tjda9g : \n",
      "Flow_15ru5kj : \n",
      "Gateway_0mmdsy6 : {'type': 'exclusiveGateway', 'incoming': ['Flow_0lml24y'], 'outgoing': ['Flow_1j4uh5z', 'Flow_1j193sd']}\n",
      "Flow_1j4uh5z : positive\n",
      "Activity_171f4h4 : {'name': 'Bank account open reject', 'type': 'task', 'incoming': ['Flow_1j193sd'], 'outgoing': ['Flow_0ixvn2k']}\n",
      "Flow_1j193sd : negetive\n",
      "Flow_0ixvn2k : \n"
     ]
    }
   ],
   "source": [
    "for key, value in process_dict.items():\n",
    "    print(key,\":\", value)"
   ]
  },
  {
   "cell_type": "code",
   "execution_count": 25,
   "id": "1a1b63dd",
   "metadata": {},
   "outputs": [],
   "source": [
    "# find the start and end event in the process_dict\n",
    "# for keys,values in process_dict.items():\n",
    "#     if 'outgoing' in values and 'incoming' not in values:\n",
    "#         start_event =keys\n",
    "#         logging.info(\"start_event=\" + start_event)\n",
    "#     if 'incoming' in values and 'outgoing' not in values:\n",
    "#         end_event =keys\n",
    "#         logging.info(\"end_event=\" + end_event)"
   ]
  },
  {
   "cell_type": "code",
   "execution_count": 26,
   "id": "572918ad",
   "metadata": {},
   "outputs": [],
   "source": [
    "# find the start and end event in the process_dict\n",
    "start_event, end_event = (\"\",\"\")\n",
    "for keys, values in process_dict.items():\n",
    "    if 'type' in values:\n",
    "        for value in values.values():\n",
    "            if value == \"startEvent\":\n",
    "                start_event = keys\n",
    "                logging.info(\"start_event=\" + start_event)\n",
    "            elif value == \"endEvent\":\n",
    "                end_event = keys\n",
    "                logging.info(\"end_event=\" + end_event)\n",
    "#raise error if startEvent or endEvent not found\n",
    "if start_event == \"\" or end_event == \"\":\n",
    "    raise Exception(\"Your bpmn process must contain a startEvent and endEvent.\")"
   ]
  },
  {
   "cell_type": "code",
   "execution_count": 27,
   "id": "3b400092",
   "metadata": {},
   "outputs": [],
   "source": [
    "# #start process\n",
    "# write_log(1,process_dict[start_event]['name'])\n"
   ]
  },
  {
   "cell_type": "code",
   "execution_count": 28,
   "id": "ed5557c9",
   "metadata": {},
   "outputs": [
    {
     "name": "stdout",
     "output_type": "stream",
     "text": [
      "Event_0lnxcvl Event_1acmirw\n"
     ]
    }
   ],
   "source": [
    "print(start_event,end_event)"
   ]
  },
  {
   "cell_type": "code",
   "execution_count": 29,
   "id": "ffc4374c",
   "metadata": {},
   "outputs": [],
   "source": [
    "#function for add to Main path\n",
    "def addToMainPath(idstr: str):\n",
    "    process_path.append(idstr)"
   ]
  },
  {
   "cell_type": "code",
   "execution_count": 30,
   "id": "dc77eb07",
   "metadata": {},
   "outputs": [
    {
     "name": "stdout",
     "output_type": "stream",
     "text": [
      "0\n"
     ]
    }
   ],
   "source": [
    "def check_outgoing_number(processDict: dict, event_id:str):\n",
    "    detail_of_given_id = processDict[event_id]\n",
    "    try:\n",
    "        outgoing = detail_of_given_id[\"outgoing\"]\n",
    "    except:\n",
    "        outgoing = \"\"\n",
    "    return len(outgoing)\n",
    "print(check_outgoing_number(process_dict, end_event))"
   ]
  },
  {
   "cell_type": "code",
   "execution_count": 31,
   "id": "e5c7d3b1",
   "metadata": {},
   "outputs": [
    {
     "name": "stdout",
     "output_type": "stream",
     "text": [
      "flow\n"
     ]
    }
   ],
   "source": [
    "#used when return from check_outgoing_number return > 1\n",
    "def checkType(processDict: dict, event_id:str):\n",
    "    detail_of_given_id = processDict[event_id]\n",
    "    if  isinstance(detail_of_given_id, list) or isinstance(detail_of_given_id, str):\n",
    "        type_of_event = \"flow\"\n",
    "    else:\n",
    "        type_of_event = detail_of_given_id[\"type\"]\n",
    "        \n",
    "    return type_of_event\n",
    "print(checkType(process_dict, process_dict[start_event][\"outgoing\"][0]))"
   ]
  },
  {
   "cell_type": "code",
   "execution_count": 32,
   "id": "3bcb0e04",
   "metadata": {},
   "outputs": [],
   "source": [
    "#check if outgoing flow have content, if do, add in main path\n",
    "def checkAndAddFlowToMain(processDict: dict, flow_id: str):\n",
    "    flow_detail = processDict[flow_id]\n",
    "    if len(flow_detail) > 0:\n",
    "        process_path.append(flow_id)\n",
    "        print(flow_detail)\n",
    "        return True\n",
    "    else:\n",
    "        return False\n",
    "# print(checkAndAddFlowToMain(process_dict, \"Flow_0ucqptd\"))"
   ]
  },
  {
   "cell_type": "code",
   "execution_count": 33,
   "id": "3d6de83f",
   "metadata": {},
   "outputs": [
    {
     "name": "stdout",
     "output_type": "stream",
     "text": [
      "Gateway_03yfk3z\n"
     ]
    }
   ],
   "source": [
    "#pass in current id's outgoing, find next\n",
    "#Flow_0c182ag\n",
    "def findNextWithOneOutgoing(processDict: dict, flow_id: str):\n",
    "    target_event_id = \"\"\n",
    "    for event in processDict:\n",
    "        event_detail = processDict[event]\n",
    "        if isinstance(event_detail, dict):\n",
    "            if \"incoming\" in event_detail:\n",
    "                if flow_id in event_detail[\"incoming\"]:\n",
    "                    target_event_id = event\n",
    "    return target_event_id\n",
    "print(findNextWithOneOutgoing(process_dict, \"Flow_0c182ag\"))"
   ]
  },
  {
   "cell_type": "code",
   "execution_count": 34,
   "id": "0af27fe3",
   "metadata": {},
   "outputs": [],
   "source": [
    "#Process\n",
    "def process_current_and_get_next(processDict: dict, current_id: str):\n",
    "    current_type = checkType(processDict, current_id)\n",
    "    if current_type != \"exclusiveGateway\" and current_type != \"parallelGateway\":\n",
    "        #Normal path\n",
    "        current_outgoing_number = check_outgoing_number(processDict, current_id)\n",
    "        if current_outgoing_number > 1:\n",
    "            raise Exception(\"Non-gateway event can only contain one outgoing path.\")\n",
    "        elif current_outgoing_number == 0:\n",
    "            print(current_outgoing_number)\n",
    "            if current_type == \"endEvent\":\n",
    "                print(current_type)\n",
    "                #EndEvent\n",
    "                addToMainPath(current_id)\n",
    "                return False\n",
    "            else:\n",
    "                raise Exception(\"Event must contain outgoing.\")\n",
    "        elif current_outgoing_number == 1:\n",
    "            addToMainPath(current_id)\n",
    "            checkAndAddFlowToMain(processDict, processDict[current_id][\"outgoing\"][0])\n",
    "            return findNextWithOneOutgoing(processDict, processDict[current_id][\"outgoing\"][0])\n",
    "        else:\n",
    "            raise Exception(\"Events have no outgoing.\")\n",
    "    else:\n",
    "        if current_type == \"exclusiveGateway\":\n",
    "            #TODO: random generate a number for different path\n",
    "            current_outgoing_number = check_outgoing_number(processDict, current_id)\n",
    "            random_path = random.randint(1,current_outgoing_number)\n",
    "            random_next_event = processDict[current_id][\"outgoing\"][random_path-1]\n",
    "            handled_gateway.append(current_id)\n",
    "            return findNextWithOneOutgoing(processDict, random_next_event)\n",
    "        elif current_type == \"parallelGateway\":\n",
    "            #TODO: parallel gateway path\n",
    "            if len(processDict[current_id][\"outgoing\"])>1:\n",
    "                return findNextWithOneOutgoing(processDict, processDict[current_id][\"outgoing\"][1])\n",
    "            else:\n",
    "                return findNextWithOneOutgoing(processDict, processDict[current_id][\"outgoing\"][0])\n",
    "        else:\n",
    "            raise Exception(\"Wrong gateway type found\")\n",
    "            \n",
    "        \n",
    "# print(process_current_and_get_next(process_dict, \"Gateway_03yfk3z\"))\n",
    "# print(process_path)"
   ]
  },
  {
   "cell_type": "code",
   "execution_count": 35,
   "id": "a28ba412",
   "metadata": {},
   "outputs": [
    {
     "name": "stdout",
     "output_type": "stream",
     "text": [
      "Event_0lnxcvl\n",
      "Gateway_03yfk3z\n",
      "Activity_1i97yd8\n",
      "Gateway_0nybhjf\n",
      "Gateway_1djuzpp\n",
      "Activity_0z136np\n",
      "Gateway_1wwtoq2\n",
      "Gateway_0mmdsy6\n",
      "Activity_171f4h4\n",
      "Gateway_0vppjg9\n",
      "Event_1acmirw\n",
      "['Event_0lnxcvl', 'Activity_1i97yd8', 'Activity_0z136np', 'Activity_171f4h4']\n"
     ]
    }
   ],
   "source": [
    "current_event = start_event\n",
    "print(current_event)\n",
    "while current_event != end_event:\n",
    "    new_event = process_current_and_get_next(process_dict, current_event)\n",
    "    current_event = new_event\n",
    "    print(current_event)\n",
    "print(process_path)"
   ]
  },
  {
   "cell_type": "code",
   "execution_count": 36,
   "id": "74de9d4f",
   "metadata": {},
   "outputs": [
    {
     "name": "stdout",
     "output_type": "stream",
     "text": [
      "['Gateway_03yfk3z', 'Gateway_0nybhjf', 'Gateway_0mmdsy6', 'Gateway_0vppjg9']\n"
     ]
    }
   ],
   "source": [
    "print(handled_gateway)"
   ]
  },
  {
   "cell_type": "code",
   "execution_count": 37,
   "id": "b626e0b3",
   "metadata": {},
   "outputs": [],
   "source": [
    "#Start Loging event\n",
    "if process_path != None:\n",
    "    for event in process_path:\n",
    "        event_name =  process_dict[event]['name']\n",
    "        import_time = datetime.now()\n",
    "        write_log(log_id,event_name,import_time)\n",
    "        time.sleep(0.5)"
   ]
  },
  {
   "cell_type": "code",
   "execution_count": 38,
   "id": "dc2adfaf",
   "metadata": {},
   "outputs": [],
   "source": [
    "#File type transformation\n",
    "read_file = pd.read_csv(\"event_log.txt\",sep='\\t')\n",
    "read_file.to_csv('event_log.csv', index=None, sep = ';')\n",
    "#print(read_file)"
   ]
  },
  {
   "cell_type": "code",
   "execution_count": 39,
   "id": "c558bcd4",
   "metadata": {},
   "outputs": [],
   "source": [
    "#PM4PY handling\n",
    "def import_csv(file_path):\n",
    "    dataframe = pd.read_csv(file_path, sep=';')\n",
    "    dataframe = pm4py.format_dataframe(dataframe, case_id='LogID', activity_key='Event', timestamp_key='Time')\n",
    "#     event_log = pm4py.convert_to_event_log(dataframe)\n",
    "#     print(event_log)\n",
    "    process_tree = pm4py.discover_bpmn_inductive(dataframe)\n",
    "    pm4py.view_bpmn(process_tree)"
   ]
  },
  {
   "cell_type": "code",
   "execution_count": 40,
   "id": "d3f102d1",
   "metadata": {},
   "outputs": [
    {
     "name": "stderr",
     "output_type": "stream",
     "text": [
      "C:\\Users\\Arthur Siu\\AppData\\Local\\Temp\\ipykernel_22376\\1753651738.py:4: DeprecatedWarning: format_dataframe is deprecated as of 2.3.0 and will be removed in 3.0.0. the format_dataframe function does not need application anymore.\n",
      "  dataframe = pm4py.format_dataframe(dataframe, case_id='LogID', activity_key='Event', timestamp_key='Time')\n"
     ]
    },
    {
     "data": {
      "image/png": "[encoded data removed]",
      "text/plain": [
       "<IPython.core.display.Image object>"
      ]
     },
     "metadata": {},
     "output_type": "display_data"
    }
   ],
   "source": [
    "import_csv(\"event_log.csv\")"
   ]
  },
  {
   "cell_type": "code",
   "execution_count": null,
   "id": "60195090",
   "metadata": {},
   "outputs": [],
   "source": [
    "pm4py.format_dataframe?"
   ]
  }
 ],
 "metadata": {
  "kernelspec": {
   "display_name": "Python 3 (ipykernel)",
   "language": "python",
   "name": "python3"
  },
  "language_info": {
   "codemirror_mode": {
    "name": "ipython",
    "version": 3
   },
   "file_extension": ".py",
   "mimetype": "text/x-python",
   "name": "python",
   "nbconvert_exporter": "python",
   "pygments_lexer": "ipython3",
   "version": "3.9.13"
  }
 },
 "nbformat": 4,
 "nbformat_minor": 5
}
