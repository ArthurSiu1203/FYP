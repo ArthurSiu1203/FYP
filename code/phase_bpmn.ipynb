{
 "cells": [
  {
   "cell_type": "code",
   "execution_count": null,
   "id": "6287ff23",
   "metadata": {},
   "outputs": [],
   "source": [
    "import xml.etree.ElementTree as ET\n",
    "import logging"
   ]
  },
  {
   "cell_type": "code",
   "execution_count": null,
   "id": "4fa49663",
   "metadata": {},
   "outputs": [],
   "source": [
    "def bpmnToDict(resource_link: str):\n",
    "    \"\"\"\n",
    "    variables\n",
    "    ---------\n",
    "    resource_link: string\n",
    "        link of the bpmn file\n",
    "        \n",
    "    return\n",
    "    ------\n",
    "    process_dict\n",
    "        -data structure being used for storing the imported process\n",
    "    \"\"\"\n",
    "    \"\"\"\n",
    "    definition\n",
    "    ----------\n",
    "    root\n",
    "    -the xml root\n",
    "    -root[0] = bmpn model\n",
    "    -root[1] = bpmn di (not using)\n",
    "    \"\"\"\n",
    "    tree = ET.parse(resource_link)\n",
    "    roots = tree.getroot()\n",
    "    process_dict = dict()\n",
    "    \n",
    "    logging.info(roots.tag)\n",
    "    logging.info(roots[0].tag)\n",
    "    logging.info(roots[0].attrib)\n",
    "    \n",
    "    \"\"\"\n",
    "    file_number\n",
    "        -the number of the bpmn file\n",
    "    --version_number\n",
    "    \"\"\"\n",
    "    if roots.tag[-11:]!='definitions':\n",
    "        raise Exception(\"Your bpmn file must have a definitions tag included\")\n",
    "        file_number = ''\n",
    "        length_file_number = 0\n",
    "    else:\n",
    "        file_number = roots.tag[0:-11]\n",
    "        length_file_number = len(file_number)\n",
    "        \n",
    "    logging.info(file_number)\n",
    "    \n",
    "    process_dict['file_number']=file_number\n",
    "    \n",
    "    #Create dictionay for storing the process\n",
    "    count = 0\n",
    "    for child in roots[0]:\n",
    "        count+=1\n",
    "        #print(child.tag, child.attrib)\n",
    "        process_dict[child.attrib[\"id\"]]=\"\"\n",
    "        if child.tag == file_number+\"sequenceFlow\":\n",
    "            #Handling for flow situation\n",
    "            if \"name\" in child.attrib:\n",
    "                #if name is exist in a flow, save it as the value\n",
    "                #print(child.attrib[\"name\"])\n",
    "                process_dict[child.attrib[\"id\"]] = child.attrib[\"name\"]\n",
    "            else:\n",
    "                process_dict[child.attrib[\"id\"]]= \"\"\n",
    "        else:\n",
    "            #Create dict store as the value of the base dict\n",
    "            inner_dict = {}\n",
    "            if \"name\" in child.attrib:\n",
    "                inner_dict[\"name\"] = child.attrib[\"name\"]\n",
    "            for action in child:\n",
    "                inner_dict[\"type\"] = child.tag[length_file_number:]\n",
    "                if action.tag[length_file_number:] in inner_dict:\n",
    "                    inner_dict[action.tag[length_file_number:]].append(action.text)\n",
    "                else:\n",
    "                    inner_dict[action.tag[length_file_number:]] = [action.text]\n",
    "            process_dict[child.attrib[\"id\"]] = inner_dict\n",
    "            \n",
    "            \n",
    "            \n",
    "    #     for action in child:\n",
    "    #         if action == \"\":\n",
    "    #             print(\"Null\")\n",
    "    \n",
    "    \n",
    "    logging.info(process_dict)\n",
    "    logging.info(count)\n",
    "    logging.info(len(process_dict))\n",
    "    return process_dict\n"
   ]
  },
  {
   "cell_type": "code",
   "execution_count": null,
   "id": "e582bf60",
   "metadata": {},
   "outputs": [],
   "source": [
    "# \"\"\"\n",
    "# process_dict\n",
    "#     -data structure being used for storing the imported process\n",
    "# root\n",
    "#     -the xml root\n",
    "#     -root[0] = bmpn model\n",
    "#     -root[1] = bpmn di (not using)\n",
    "\n",
    "# \"\"\"\n",
    "# tree = ET.parse('resources/bpmn.bpmn')\n",
    "# roots = tree.getroot()\n",
    "# process_dict = dict()"
   ]
  },
  {
   "cell_type": "code",
   "execution_count": null,
   "id": "722ff75a",
   "metadata": {},
   "outputs": [],
   "source": [
    "# print(roots.tag)"
   ]
  },
  {
   "cell_type": "code",
   "execution_count": null,
   "id": "fa6f3e0e",
   "metadata": {},
   "outputs": [],
   "source": [
    "# print(roots[0].tag)\n",
    "# print(roots[0].attrib)"
   ]
  },
  {
   "cell_type": "code",
   "execution_count": null,
   "id": "539b2839",
   "metadata": {},
   "outputs": [],
   "source": [
    "# \"\"\"\n",
    "# file_number\n",
    "#     -the number of the bpmn file\n",
    "# --version_number\n",
    "# \"\"\"\n",
    "# if roots.tag[-11:]!='definitions':\n",
    "#     raise Exception(\"Your bpmn file must have a definitions tag included\")\n",
    "#     file_number = ''\n",
    "# else:\n",
    "#     file_number = roots.tag[0:-11]\n",
    "    \n",
    "# print(file_number)"
   ]
  },
  {
   "cell_type": "code",
   "execution_count": null,
   "id": "3bd54e51",
   "metadata": {},
   "outputs": [],
   "source": [
    "# print(roots[0].findall(f\"{file_number}startEvent\"))"
   ]
  },
  {
   "cell_type": "code",
   "execution_count": null,
   "id": "df7d11ec",
   "metadata": {},
   "outputs": [],
   "source": [
    "# for exclusiveGateway in roots[0].findall(f\"{file_number}startEvent\"):\n",
    "#     print(exclusiveGateway.find(f\"{file_number}outgoing\"))"
   ]
  },
  {
   "cell_type": "code",
   "execution_count": null,
   "id": "d1522cb2",
   "metadata": {},
   "outputs": [],
   "source": [
    "# #Check number of startEvent\n",
    "# number_start_event = roots[0].findall(f\"{file_number}startEvent\")\n",
    "# # if number_start_event > 1 or number_start_event < 1:\n",
    "# #     raise Exception(\"Your bpmn file must contain a single startEvent\")\n",
    "    "
   ]
  },
  {
   "cell_type": "code",
   "execution_count": null,
   "id": "26d2207f",
   "metadata": {
    "scrolled": false
   },
   "outputs": [],
   "source": [
    "# #Create dictionay for storing the process\n",
    "# count = 0\n",
    "# for child in roots[0]:\n",
    "#     count+=1\n",
    "#     #print(child.tag, child.attrib)\n",
    "#     process_dict[child.attrib[\"id\"]]=\"\"\n",
    "#     if child.tag == file_number+\"sequenceFlow\":\n",
    "#         #Handling for flow situation\n",
    "#         if \"name\" in child.attrib:\n",
    "#             #if name is exist in a flow, save it as the value\n",
    "#             #print(child.attrib[\"name\"])\n",
    "#             process_dict[child.attrib[\"id\"]] = child.attrib[\"name\"]\n",
    "#         else:\n",
    "#             process_dict[child.attrib[\"id\"]]= \"\"\n",
    "#     else:\n",
    "#         #Create dict store as the value of the base dict\n",
    "#         inner_dict = {}\n",
    "#         if \"name\" in child.attrib:\n",
    "#             inner_dict[\"name\"] = child.attrib[\"name\"]\n",
    "#         for action in child:\n",
    "#             if action.tag in inner_dict:\n",
    "#                 inner_dict[action.tag].append(action.text)\n",
    "#             else:\n",
    "#                 inner_dict[action.tag] = [action.text]\n",
    "#         process_dict[child.attrib[\"id\"]] = inner_dict\n",
    "        \n",
    "        \n",
    "        \n",
    "# #     for action in child:\n",
    "# #         if action == \"\":\n",
    "# #             print(\"Null\")\n",
    "    \n",
    "\n",
    "# print(process_dict)\n",
    "# print(count)\n",
    "# print(len(process_dict))"
   ]
  },
  {
   "cell_type": "code",
   "execution_count": null,
   "id": "7ada19a7",
   "metadata": {},
   "outputs": [],
   "source": [
    "# def tag_transform(tags: str, root:ET.Element):\n",
    "#     parent = root.findall(tags).attrib['id']\n",
    "#     #check if it is a sequenceFlow\n",
    "#     print(parent)\n",
    "    \n",
    "# #     for direction in parent:\n",
    "# #         if process_dict[parent.tag+\"_\"+parent.attrib[\"id\"]] != None:\n",
    "            \n",
    "# #         print(child.text)\n",
    "# #     print(parent.tag+\"_\"+parent.attrib[\"id\"])"
   ]
  },
  {
   "cell_type": "code",
   "execution_count": null,
   "id": "49f8325f",
   "metadata": {},
   "outputs": [],
   "source": [
    "# tag_transform(f\"{file_number}sequenceFlow\",roots[0])"
   ]
  },
  {
   "cell_type": "code",
   "execution_count": null,
   "id": "0b1ab658",
   "metadata": {},
   "outputs": [],
   "source": [
    "# print(process_dict)"
   ]
  },
  {
   "cell_type": "code",
   "execution_count": null,
   "id": "25ccfaff",
   "metadata": {},
   "outputs": [],
   "source": [
    "# dt = bpmnToDict(\"resources/bpmn.bpmn\")"
   ]
  },
  {
   "cell_type": "code",
   "execution_count": null,
   "id": "0c0487e8",
   "metadata": {},
   "outputs": [],
   "source": [
    "# print(dt)"
   ]
  },
  {
   "cell_type": "code",
   "execution_count": null,
   "id": "6bb6443d",
   "metadata": {},
   "outputs": [],
   "source": []
  }
 ],
 "metadata": {
  "kernelspec": {
   "display_name": "Python 3 (ipykernel)",
   "language": "python",
   "name": "python3"
  },
  "language_info": {
   "codemirror_mode": {
    "name": "ipython",
    "version": 3
   },
   "file_extension": ".py",
   "mimetype": "text/x-python",
   "name": "python",
   "nbconvert_exporter": "python",
   "pygments_lexer": "ipython3",
   "version": "3.9.13"
  }
 },
 "nbformat": 4,
 "nbformat_minor": 5
}
