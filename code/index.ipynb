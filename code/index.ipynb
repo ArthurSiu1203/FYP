{
 "cells": [
  {
   "cell_type": "code",
   "execution_count": null,
   "id": "965b6ed5",
   "metadata": {},
   "outputs": [],
   "source": [
    "from Pm4pyHandling3 import *\n",
    "from Simulation2 import do_simulate\n",
    "from event_log import clear_log\n",
    "\n",
    "import logging"
   ]
  },
  {
   "cell_type": "code",
   "execution_count": null,
   "id": "45bcd605",
   "metadata": {},
   "outputs": [],
   "source": [
    "resource_changed = str(input(\"Have you changed the BPMN default file location in resources file? (Y/N) \"))\n",
    "if resource_changed == \"Y\":\n",
    "    resource_link = str(input(\"Please specified the changed location: \"))\n",
    "clear_log()\n",
    "num_of_sim = int(input(\"Please specified the number of simulation you want to do. (integer)\"))\n",
    "print(\"Start simulation procedure. Please wait...\")\n",
    "do_simulate(num_of_sim)\n",
    "print(\"Finished Simulation procedure.\")\n",
    "if resource_changed == \"Y\":\n",
    "    plot_conformance_graph(bpmn_loc = resource_link)\n",
    "    plot_precision_graph(bpmn_loc = resource_link)\n",
    "else:\n",
    "    plot_conformance_graph()\n",
    "    plot_precision_graph()"
   ]
  }
 ],
 "metadata": {
  "kernelspec": {
   "display_name": "Python 3 (ipykernel)",
   "language": "python",
   "name": "python3"
  },
  "language_info": {
   "codemirror_mode": {
    "name": "ipython",
    "version": 3
   },
   "file_extension": ".py",
   "mimetype": "text/x-python",
   "name": "python",
   "nbconvert_exporter": "python",
   "pygments_lexer": "ipython3",
   "version": "3.9.13"
  }
 },
 "nbformat": 4,
 "nbformat_minor": 5
}
